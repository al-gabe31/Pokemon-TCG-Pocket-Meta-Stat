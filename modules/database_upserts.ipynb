{
 "cells": [
  {
   "cell_type": "code",
   "execution_count": 2,
   "metadata": {},
   "outputs": [
    {
     "name": "stdout",
     "output_type": "stream",
     "text": [
      "All good\n"
     ]
    }
   ],
   "source": [
    "# setup\n",
    "import sqlite3\n",
    "print('All good')"
   ]
  },
  {
   "cell_type": "markdown",
   "metadata": {},
   "source": [
    "### 1. Player"
   ]
  },
  {
   "cell_type": "code",
   "execution_count": 3,
   "metadata": {},
   "outputs": [],
   "source": [
    "def player_upsert():\n",
    "    conn = None\n",
    "    cursor = None\n",
    "\n",
    "    \n",
    "    conn = sqlite3.connect('../databases/player.db')\n",
    "    cursor = conn.cursor()\n",
    "\n",
    "    cursor.execute('insert into player default values')\n",
    "\n",
    "    conn.commit()\n",
    "    conn.close()"
   ]
  },
  {
   "cell_type": "markdown",
   "metadata": {},
   "source": [
    "### 7. Move"
   ]
  },
  {
   "cell_type": "code",
   "execution_count": 39,
   "metadata": {},
   "outputs": [],
   "source": [
    "# PARAMETER DEFAULT VALUES\n",
    "DEFAULT_DESCRIPTION = '' # (okay if it's empty)\n",
    "DEFAULT_ATTACK_TYPE = ''\n",
    "DEFAULT_BASE_DAMAGE = -10\n",
    "DEFAULT_COST = '{}'\n",
    "DEFAULT_EFFECTS = '{\"null\": \"null\"}'\n",
    "\n",
    "def move_upsert(move_name, description = '', attack_type = '', base_damage = -10, cost = '{}', effects = '{\"null\": \"null\"}', force_insert = False):\n",
    "    conn = None\n",
    "    cursor = None\n",
    "\n",
    "    try:\n",
    "        conn = sqlite3.connect('../databases/move.db')\n",
    "        cursor = conn.cursor()\n",
    "\n",
    "        action_type = '' # we need to know whether we're going to be inserting or updating a record into the table\n",
    "        cursor.execute(f'select count(*) from move where move_name = \\\"{move_name}\\\"')\n",
    "\n",
    "        if cursor.fetchall()[0][0] > 0:\n",
    "            action_type = 'upsert'\n",
    "        else:\n",
    "            action_type = 'insert'\n",
    "\n",
    "        # action type is insert but not all parameters are populated (except description)\n",
    "        if action_type == 'insert' and (attack_type == DEFAULT_ATTACK_TYPE or base_damage == DEFAULT_BASE_DAMAGE or cost == DEFAULT_COST or effects == DEFAULT_EFFECTS):\n",
    "            print('All parameters need to be populated in order to insert into move.db')\n",
    "            return # exits the function\n",
    "        \n",
    "        # action type is insert and all parameters are populated\n",
    "        if action_type == 'insert' and not (attack_type == DEFAULT_ATTACK_TYPE or base_damage == DEFAULT_BASE_DAMAGE or cost == DEFAULT_COST or effects == DEFAULT_EFFECTS):\n",
    "            cursor.execute(f'''\n",
    "                insert into move (move_name, description, attack_type, base_damage, cost, effects)\n",
    "                values (\\'{move_name}\\', \\'{description}\\', \\'{attack_type}\\', {base_damage}, \\'{cost}\\', \\'{effects}\\')\n",
    "            ''')\n",
    "\n",
    "        # action type is upsert and force insert is false\n",
    "        if action_type == 'upsert' and force_insert == False:\n",
    "            # first getting current values for each attribute\n",
    "            cursor.execute(f'select * from move where move_name = \\\"{move_name}\\\"')\n",
    "            result = cursor.fetchall()[0]\n",
    "            curr_description = result[2]\n",
    "            curr_attack_type = result[3]\n",
    "            curr_base_damage = result[4]\n",
    "            curr_cost = result[5]\n",
    "            curr_effects = result[6]\n",
    "\n",
    "            # only update the attributes we specified\n",
    "            if description != DEFAULT_DESCRIPTION:\n",
    "                curr_description = description\n",
    "            if attack_type != DEFAULT_ATTACK_TYPE:\n",
    "                curr_attack_type = attack_type\n",
    "            if base_damage != DEFAULT_BASE_DAMAGE:\n",
    "                curr_base_damage = base_damage\n",
    "            if cost != DEFAULT_COST:\n",
    "                curr_cost = cost\n",
    "            if effects != DEFAULT_EFFECTS:\n",
    "                curr_effects = effects\n",
    "\n",
    "            # ready to update row\n",
    "            cursor.execute(f'''\n",
    "                update move\n",
    "                set\n",
    "                    description = \\'{curr_description}\\',\n",
    "                    attack_type = \\'{curr_attack_type}\\',\n",
    "                    base_damage = {curr_base_damage},\n",
    "                    cost = \\'{curr_cost}\\',\n",
    "                    effects = \\'{curr_effects}\\'\n",
    "                where move_name = \\'{move_name}\\'\n",
    "            ''')\n",
    "\n",
    "        # action type is upsert and force insert is true\n",
    "        if action_type == 'upsert' and force_insert == True:\n",
    "            print(f'Move {move_name} already in move.db')\n",
    "            return # exits the function\n",
    "\n",
    "        conn.commit()\n",
    "    except Exception as e:\n",
    "        print(f'SQL ERROR - {e}')\n",
    "    finally:\n",
    "        if cursor:\n",
    "            cursor.close()\n",
    "        if conn:\n",
    "            conn.close()"
   ]
  },
  {
   "cell_type": "markdown",
   "metadata": {},
   "source": [
    "### 8. Ability"
   ]
  },
  {
   "cell_type": "code",
   "execution_count": 31,
   "metadata": {},
   "outputs": [],
   "source": [
    "# PARAMETER DEFAULT VALUES\n",
    "DEFAULT_DESCRIPTION = '' # (okay if it's empty)\n",
    "DEFAULT_ACTIVABLE = -1\n",
    "DEFAULT_ACTIVE_REQ = '{\"null\": \"null\"}'\n",
    "DEFAULT_REPEATABLE = -1\n",
    "DEFAULT_EFFECTS = '{\"null\": \"null\"}'\n",
    "\n",
    "def ability_upsert(ability_name, description = DEFAULT_DESCRIPTION, activable = DEFAULT_ACTIVABLE, active_req = DEFAULT_ACTIVE_REQ, repeatable = DEFAULT_REPEATABLE, effects = DEFAULT_EFFECTS, force_insert = False):\n",
    "    conn = None\n",
    "    cursor = None\n",
    "\n",
    "    try:\n",
    "        conn = sqlite3.connect('../databases/ability.db')\n",
    "        cursor = conn.cursor()\n",
    "\n",
    "        action_type = '' # we need to know whether we're going to be inserting or updating a record into the table\n",
    "        cursor.execute(f'select count(*) from ability where ability_name = \\\"{ability_name}\\\"')\n",
    "\n",
    "        if cursor.fetchall()[0][0] > 0:\n",
    "            action_type = 'upsert'\n",
    "        else:\n",
    "            action_type = 'insert'\n",
    "\n",
    "        # action type is insert but not all parameters are populated (except description)\n",
    "        if action_type == 'insert' and (activable == DEFAULT_ACTIVABLE or active_req == DEFAULT_ACTIVE_REQ or repeatable == DEFAULT_REPEATABLE or effects == DEFAULT_EFFECTS):\n",
    "            print ('All parameters need to be populated in order to insert into ability.db')\n",
    "            return # exits the function\n",
    "\n",
    "        # action type is insert and all parameters are populated\n",
    "        if action_type == 'insert' and not (activable == DEFAULT_ACTIVABLE or active_req == DEFAULT_ACTIVE_REQ or repeatable == DEFAULT_REPEATABLE or effects == DEFAULT_EFFECTS):\n",
    "            print('F1')\n",
    "            cursor.execute(f'''\n",
    "                insert into ability(ability_name, description, activable, active_req, repeatable, effects)\n",
    "                values (\\'{ability_name}\\', \\'{description}\\', {activable}, \\'{active_req}\\', {repeatable}, \\'{effects}\\')\n",
    "            ''')\n",
    "\n",
    "        # action type is upsert and force insert is false\n",
    "        if action_type == 'upsert' and force_insert == False:\n",
    "            # first getting current values for each attribute\n",
    "            cursor.execute(f'select * from ability where ability_name = \\\"{ability_name}\\\"')\n",
    "            result = cursor.fetchall()[0]\n",
    "            curr_description = result[2]\n",
    "            curr_activable = result[3]\n",
    "            curr_active_req = result[4]\n",
    "            curr_repeatable = result[5]\n",
    "            curr_effects = result[6]\n",
    "\n",
    "            # only update the attributes we specified\n",
    "            if description != DEFAULT_DESCRIPTION:\n",
    "                curr_description = description\n",
    "            if activable != DEFAULT_ACTIVABLE:\n",
    "                curr_activable = activable\n",
    "            if active_req != DEFAULT_ACTIVE_REQ:\n",
    "                curr_active_req = active_req\n",
    "            if repeatable != DEFAULT_REPEATABLE:\n",
    "                curr_repeatable = repeatable\n",
    "            if effects != DEFAULT_EFFECTS:\n",
    "                curr_effects = effects\n",
    "\n",
    "            # ready to update row\n",
    "            cursor.execute(f'''\n",
    "                update ability\n",
    "                set\n",
    "                    description = \\'{curr_description}\\',\n",
    "                    activable = {curr_activable},\n",
    "                    active_req = \\'{curr_active_req}\\',\n",
    "                    repeatable = {curr_repeatable},\n",
    "                    effects = \\'{curr_effects}\\'\n",
    "            ''')\n",
    "\n",
    "        # action type is upsert and force insert is true\n",
    "        if action_type == 'upsert' and force_insert == True:\n",
    "            print(f'Ability {ability_name} already in ability.db')\n",
    "            return # exits the function\n",
    "\n",
    "        conn.commit()\n",
    "    except Exception as e:\n",
    "        print(f'SQL ERROR - {e}')\n",
    "    finally:\n",
    "        if cursor:\n",
    "            cursor.close()\n",
    "        if conn:\n",
    "            conn.close()"
   ]
  },
  {
   "cell_type": "code",
   "execution_count": 41,
   "metadata": {},
   "outputs": [
    {
     "name": "stdout",
     "output_type": "stream",
     "text": [
      "Move Bug Bite already in move.db\n"
     ]
    }
   ],
   "source": [
    "# test ground here\n",
    "\n",
    "name = ''\n",
    "description = ''\n",
    "type = ''\n",
    "base_damage = 0\n",
    "cost = '{}'\n",
    "effects = '{}'\n",
    "\n",
    "name = 'Bug Bite'\n",
    "description = ''\n",
    "type = 'grass'\n",
    "base_damage = 30\n",
    "cost = '{\"grass\": 1}'\n",
    "effects = '{}'\n",
    "\n",
    "move_upsert(name, description, type, base_damage, cost, effects, True)\n",
    "# COMING BACK: Fix some moves can have variations (ex. Bug Bite can have different costs)"
   ]
  },
  {
   "cell_type": "code",
   "execution_count": 33,
   "metadata": {},
   "outputs": [
    {
     "name": "stdout",
     "output_type": "stream",
     "text": [
      "Ability Powder Heal already in ability.db\n"
     ]
    }
   ],
   "source": [
    "# test ground here\n",
    "\n",
    "name = ''\n",
    "description = ''\n",
    "activable = 0\n",
    "active_req = '{}'\n",
    "repeatable = 0\n",
    "effects = '{}'\n",
    "\n",
    "name = 'Powder Heal'\n",
    "description = 'Once during your turn, you may heal 20 damage from each of your Pokemon'\n",
    "activable = 1\n",
    "active_req = '{}'\n",
    "repeatable = 0\n",
    "effects = '{\"heal_all\": 20}'\n",
    "\n",
    "ability_upsert(name, description, activable, active_req, repeatable, effects, True)"
   ]
  }
 ],
 "metadata": {
  "kernelspec": {
   "display_name": "Python 3",
   "language": "python",
   "name": "python3"
  },
  "language_info": {
   "codemirror_mode": {
    "name": "ipython",
    "version": 3
   },
   "file_extension": ".py",
   "mimetype": "text/x-python",
   "name": "python",
   "nbconvert_exporter": "python",
   "pygments_lexer": "ipython3",
   "version": "3.9.5"
  }
 },
 "nbformat": 4,
 "nbformat_minor": 2
}
