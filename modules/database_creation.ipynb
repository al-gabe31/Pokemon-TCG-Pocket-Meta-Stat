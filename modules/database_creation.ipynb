{
 "cells": [
  {
   "cell_type": "markdown",
   "metadata": {},
   "source": [
    "### Creating the following databases\n",
    "1. Player\n",
    "2. Match_History\n",
    "3. Deck\n",
    "4. Card\n",
    "5. Pokemon_Card\n",
    "6. Trainer_Card\n",
    "7. Move\n",
    "8. Ability"
   ]
  },
  {
   "cell_type": "code",
   "execution_count": 1,
   "metadata": {},
   "outputs": [
    {
     "name": "stdout",
     "output_type": "stream",
     "text": [
      "All good\n"
     ]
    }
   ],
   "source": [
    "# setup\n",
    "import sqlite3\n",
    "\n",
    "# boilerplate code to create the database\n",
    "def create_db(db_name, query):\n",
    "    conn = sqlite3.connect(f'../databases/ptcgp.db')\n",
    "    cursor = conn.cursor()\n",
    "\n",
    "    try:\n",
    "        cursor.execute(query)\n",
    "        conn.commit()\n",
    "        print(f'Database {db_name}.db created!')\n",
    "    except sqlite3.Error as e:\n",
    "        print(f'ERROR - {e}')\n",
    "\n",
    "\n",
    "    conn.close()\n",
    "\n",
    "print('All good')"
   ]
  },
  {
   "cell_type": "markdown",
   "metadata": {},
   "source": [
    "### 1. Player"
   ]
  },
  {
   "cell_type": "code",
   "execution_count": 17,
   "metadata": {},
   "outputs": [
    {
     "name": "stdout",
     "output_type": "stream",
     "text": [
      "Database player.db created!\n"
     ]
    }
   ],
   "source": [
    "db_name = 'player'\n",
    "query = '''\n",
    "    create table if not exists player (\n",
    "        player_id   integer primary key autoincrement,\n",
    "        num_win     integer not null default 0,\n",
    "        num_lose    integer not null default 0,\n",
    "        num_draw    integer not null default 0\n",
    "    )\n",
    "'''\n",
    "create_db(db_name, query)"
   ]
  },
  {
   "cell_type": "markdown",
   "metadata": {},
   "source": [
    "### 2. Match_History"
   ]
  },
  {
   "cell_type": "code",
   "execution_count": 18,
   "metadata": {},
   "outputs": [
    {
     "name": "stdout",
     "output_type": "stream",
     "text": [
      "Database match_history.db created!\n"
     ]
    }
   ],
   "source": [
    "db_name = 'match_history'\n",
    "query = '''\n",
    "    create table if not exists match_history (\n",
    "        match_id            integer primary key autoincrement,\n",
    "        first_player_id     integer not null,\n",
    "        second_player_id    integer not null,\n",
    "        winner_id           integer \n",
    "    )\n",
    "'''\n",
    "create_db(db_name, query)"
   ]
  },
  {
   "cell_type": "markdown",
   "metadata": {},
   "source": [
    "### 7. Move"
   ]
  },
  {
   "cell_type": "code",
   "execution_count": 7,
   "metadata": {},
   "outputs": [
    {
     "name": "stdout",
     "output_type": "stream",
     "text": [
      "Database move.db created!\n"
     ]
    }
   ],
   "source": [
    "db_name = 'move'\n",
    "query = '''\n",
    "    create table if not exists move (\n",
    "        move_id         integer primary key autoincrement,\n",
    "        move_name       varchar(127) unique not null,\n",
    "        description     varchar(255),\n",
    "        attack_type     varchar(31) check(attack_type in ('colorless', 'grass', 'fire', 'water', 'lightning', 'fighting', 'psychic', 'darkness', 'metal', 'dragon')) not null,\n",
    "        base_damage     int not null,\n",
    "        cost            varchar(255) check(json_valid(cost)) not null,\n",
    "        effects         varchar(511) check(json_valid(effects)) not null\n",
    "    )\n",
    "'''\n",
    "create_db(db_name, query)"
   ]
  },
  {
   "cell_type": "markdown",
   "metadata": {},
   "source": [
    "### 8. Ability"
   ]
  },
  {
   "cell_type": "code",
   "execution_count": 3,
   "metadata": {},
   "outputs": [
    {
     "name": "stdout",
     "output_type": "stream",
     "text": [
      "Database ability.db created!\n"
     ]
    }
   ],
   "source": [
    "db_name = 'ability'\n",
    "query = '''\n",
    "    create table if not exists ability (\n",
    "        ability_id      integer primary key autoincrement,\n",
    "        ability_name    varchar(127) unique not null,\n",
    "        description     varchar(255),\n",
    "        activable       int check(activable in (1, 0)) not null,\n",
    "        active_req      varchar(255) check(json_valid(active_req)) not null,\n",
    "        repeatable      int check(repeatable in (1, 0)) not null,\n",
    "        effects         varchar(255) check(json_valid(effects)) not null\n",
    "    )\n",
    "'''\n",
    "create_db(db_name, query)"
   ]
  }
 ],
 "metadata": {
  "kernelspec": {
   "display_name": "Python 3",
   "language": "python",
   "name": "python3"
  },
  "language_info": {
   "codemirror_mode": {
    "name": "ipython",
    "version": 3
   },
   "file_extension": ".py",
   "mimetype": "text/x-python",
   "name": "python",
   "nbconvert_exporter": "python",
   "pygments_lexer": "ipython3",
   "version": "3.13.1"
  }
 },
 "nbformat": 4,
 "nbformat_minor": 2
}
