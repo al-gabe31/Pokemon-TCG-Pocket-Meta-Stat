{
 "cells": [
  {
   "cell_type": "code",
   "execution_count": 2,
   "metadata": {},
   "outputs": [
    {
     "name": "stdout",
     "output_type": "stream",
     "text": [
      "All good\n"
     ]
    }
   ],
   "source": [
    "# setup\n",
    "import sqlite3\n",
    "print('All good')"
   ]
  },
  {
   "cell_type": "code",
   "execution_count": 5,
   "metadata": {},
   "outputs": [],
   "source": [
    "def get_move(move_name, column_index = -1):\n",
    "    conn = None\n",
    "    cursor = None\n",
    "\n",
    "    try:\n",
    "        conn = sqlite3.connect('../databases/move.db')\n",
    "        cursor = conn.cursor()\n",
    "\n",
    "        # fetching the move in the database\n",
    "        cursor.execute(f'select * from move where move_name = \\\"{move_name}\\\" collate nocase')\n",
    "        return cursor.fetchall()[0]\n",
    "    except Exception as e:\n",
    "        print(f'SQL ERROR - {e}')\n",
    "    finally:\n",
    "        if cursor:\n",
    "            cursor.close()\n",
    "        if conn:\n",
    "            conn.close()"
   ]
  },
  {
   "cell_type": "code",
   "execution_count": 6,
   "metadata": {},
   "outputs": [
    {
     "name": "stdout",
     "output_type": "stream",
     "text": [
      "(4, 'Giant Bloom', 'Heal 30 damage from this Pokemon', 'grass', 100, '{\"grass\": 2, \"colorless\": 2}', '{\"heal_self\": 30}')\n"
     ]
    }
   ],
   "source": [
    "print(get_move('giant bloom'))"
   ]
  },
  {
   "cell_type": "code",
   "execution_count": null,
   "metadata": {},
   "outputs": [],
   "source": []
  }
 ],
 "metadata": {
  "kernelspec": {
   "display_name": "Python 3",
   "language": "python",
   "name": "python3"
  },
  "language_info": {
   "codemirror_mode": {
    "name": "ipython",
    "version": 3
   },
   "file_extension": ".py",
   "mimetype": "text/x-python",
   "name": "python",
   "nbconvert_exporter": "python",
   "pygments_lexer": "ipython3",
   "version": "3.13.1"
  }
 },
 "nbformat": 4,
 "nbformat_minor": 2
}
