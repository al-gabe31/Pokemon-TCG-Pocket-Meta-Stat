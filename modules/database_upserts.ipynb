{
 "cells": [
  {
   "cell_type": "code",
   "execution_count": 4,
   "metadata": {},
   "outputs": [
    {
     "name": "stdout",
     "output_type": "stream",
     "text": [
      "All good\n"
     ]
    }
   ],
   "source": [
    "# setup\n",
    "import sqlite3\n",
    "print('All good')"
   ]
  },
  {
   "cell_type": "markdown",
   "metadata": {},
   "source": [
    "### 1. Player"
   ]
  },
  {
   "cell_type": "code",
   "execution_count": 3,
   "metadata": {},
   "outputs": [],
   "source": [
    "def player_upsert():\n",
    "    conn = None\n",
    "    cursor = None\n",
    "\n",
    "    \n",
    "    conn = sqlite3.connect('../databases/player.db')\n",
    "    cursor = conn.cursor()\n",
    "\n",
    "    cursor.execute('insert into player default values')\n",
    "\n",
    "    conn.commit()\n",
    "    conn.close()"
   ]
  },
  {
   "cell_type": "markdown",
   "metadata": {},
   "source": [
    "### 7. Move"
   ]
  },
  {
   "cell_type": "code",
   "execution_count": 48,
   "metadata": {},
   "outputs": [],
   "source": [
    "# PARAMETER DEFAULT VALUES\n",
    "DEFAULT_DESCRIPTION = '' # (okay if it's empty)\n",
    "DEFAULT_ATTACK_TYPE = ''\n",
    "DEFAULT_BASE_DAMAGE = -10\n",
    "DEFAULT_COST = '{}'\n",
    "DEFAULT_EFFECTS = '{\"null\": \"null\"}'\n",
    "\n",
    "def move_upsert(move_name, description = '', attack_type = '', base_damage = -10, cost = '{}', effects = '{\"null\": \"null\"}', force_insert = False):\n",
    "    conn = None\n",
    "    cursor = None\n",
    "\n",
    "    try:\n",
    "        conn = sqlite3.connect('../databases/move.db')\n",
    "        cursor = conn.cursor()\n",
    "\n",
    "        action_type = '' # we need to know whether we're going to be inserting or updating a record into the table\n",
    "        cursor.execute(f'select count(*) from move where move_name = \\\"{move_name}\\\"')\n",
    "\n",
    "        if cursor.fetchall()[0][0] > 0:\n",
    "            action_type = 'upsert'\n",
    "        else:\n",
    "            action_type = 'insert'\n",
    "\n",
    "        # action type is insert but not all parameters are populated (except description)\n",
    "        if action_type == 'insert' and (attack_type == DEFAULT_ATTACK_TYPE or base_damage == DEFAULT_BASE_DAMAGE or cost == DEFAULT_COST or effects == DEFAULT_EFFECTS):\n",
    "            print('All parameters need to be populated in order to insert into move.db')\n",
    "            return # exits the function\n",
    "        \n",
    "        # action type is insert and all parameters are populated\n",
    "        if action_type == 'insert' and not (attack_type == DEFAULT_ATTACK_TYPE or base_damage == DEFAULT_BASE_DAMAGE or cost == DEFAULT_COST or effects == DEFAULT_EFFECTS):\n",
    "            # print(f'Inserting move {move_name}')\n",
    "            cursor.execute(f'''\n",
    "                insert into move (move_name, description, attack_type, base_damage, cost, effects)\n",
    "                values (\\'{move_name}\\', \\'{description}\\', \\'{attack_type}\\', {base_damage}, \\'{cost}\\', \\'{effects}\\')\n",
    "            ''')\n",
    "\n",
    "        # action type is upsert and force insert is false\n",
    "        if action_type == 'upsert' and force_insert == False:\n",
    "            # first getting current values for each attribute\n",
    "            cursor.execute(f'select * from move where move_name = \\\"{move_name}\\\"')\n",
    "            result = cursor.fetchall()[0]\n",
    "            curr_description = result[2]\n",
    "            curr_attack_type = result[3]\n",
    "            curr_base_damage = result[4]\n",
    "            curr_cost = result[5]\n",
    "            curr_effects = result[6]\n",
    "\n",
    "            # only update the attributes we specified\n",
    "            if description != DEFAULT_DESCRIPTION:\n",
    "                curr_description = description\n",
    "            if attack_type != DEFAULT_ATTACK_TYPE:\n",
    "                curr_attack_type = attack_type\n",
    "            if base_damage != DEFAULT_BASE_DAMAGE:\n",
    "                curr_base_damage = base_damage\n",
    "            if cost != DEFAULT_COST:\n",
    "                curr_cost = cost\n",
    "            if effects != DEFAULT_EFFECTS:\n",
    "                curr_effects = effects\n",
    "\n",
    "            # ready to update row\n",
    "            cursor.execute(f'''\n",
    "                update move\n",
    "                set\n",
    "                    description = \\'{curr_description}\\',\n",
    "                    attack_type = \\'{curr_attack_type}\\',\n",
    "                    base_damage = {curr_base_damage},\n",
    "                    cost = \\'{curr_cost}\\',\n",
    "                    effects = \\'{curr_effects}\\'\n",
    "                where move_name = \\'{move_name}\\'\n",
    "            ''')\n",
    "\n",
    "        conn.commit()\n",
    "    except Exception as e:\n",
    "        print(f'SQL ERROR - {e}')\n",
    "    finally:\n",
    "        if cursor:\n",
    "            cursor.close()\n",
    "        if conn:\n",
    "            conn.close()"
   ]
  },
  {
   "cell_type": "code",
   "execution_count": null,
   "metadata": {},
   "outputs": [],
   "source": [
    "# test ground here\n",
    "\n",
    "# move_upsert('Vine Whip', '', 'grass', 40, '{\"grass\": 1, \"colorless\": 1}', '{}')\n",
    "# move_upsert('Razor Leaf', '', 'grass', 60, '{\"grass\": 1, \"colorless\": 2}', '{}')\n",
    "# move_upsert('Mega Drain', 'Heal 30 damage from this Pokemon', 'grass', 80, '{\"grass\": 2, \"colorless\": 2}', '{\"heal_self\": 30}')\n",
    "move_upsert('Giant Bloom') # upsert works!"
   ]
  },
  {
   "cell_type": "code",
   "execution_count": 14,
   "metadata": {},
   "outputs": [
    {
     "name": "stdout",
     "output_type": "stream",
     "text": [
      "{\"null\", \"null\"}\n"
     ]
    }
   ],
   "source": [
    "# test ground here\n",
    "\n",
    "print('{\"null\", \"null\"}')"
   ]
  }
 ],
 "metadata": {
  "kernelspec": {
   "display_name": "Python 3",
   "language": "python",
   "name": "python3"
  },
  "language_info": {
   "codemirror_mode": {
    "name": "ipython",
    "version": 3
   },
   "file_extension": ".py",
   "mimetype": "text/x-python",
   "name": "python",
   "nbconvert_exporter": "python",
   "pygments_lexer": "ipython3",
   "version": "3.9.5"
  }
 },
 "nbformat": 4,
 "nbformat_minor": 2
}
